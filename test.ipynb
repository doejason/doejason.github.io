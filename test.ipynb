{
 "cells": [
  {
   "cell_type": "code",
   "execution_count": 9,
   "id": "45baf34f",
   "metadata": {},
   "outputs": [
    {
     "name": "stdout",
     "output_type": "stream",
     "text": [
      "Error fetching VIX data: Yahoo API requires curl_cffi session not <class 'requests.sessions.Session'>. Solution: stop setting session, let YF handle.\n"
     ]
    }
   ],
   "source": [
    "import yfinance as yf\n",
    "import requests\n",
    "import warnings\n",
    "\n",
    "# Suppress SSL warnings (only if using verify=False)\n",
    "warnings.filterwarnings(\"ignore\", category=requests.packages.urllib3.exceptions.InsecureRequestWarning)\n",
    "\n",
    "# Optional: Configure proxy if needed\n",
    "proxies = {\n",
    "    # Example: 'http': 'http://your_proxy:port', 'https': 'http://your_proxy:port'\n",
    "}\n",
    "\n",
    "try:\n",
    "    # Create a session to bypass SSL verification (set verify=True if certificates are fixed)\n",
    "    session = requests.Session()\n",
    "    session.verify = False  # Temporary workaround; use True for secure connections\n",
    "    session.proxies.update(proxies if proxies else {})\n",
    "\n",
    "    # Fetch VIX data (^VIX is the ticker for the CBOE Volatility Index)\n",
    "    vix = yf.Ticker(\"^VIX\", session=session)\n",
    "    vix_value = vix.history(period='1d')['Close'].iloc[-1]\n",
    "    print(f\"VIX Index: {vix_value:.2f}\")\n",
    "\n",
    "except Exception as e:\n",
    "    print(f\"Error fetching VIX data: {e}\")"
   ]
  }
 ],
 "metadata": {
  "kernelspec": {
   "display_name": ".venv",
   "language": "python",
   "name": "python3"
  },
  "language_info": {
   "codemirror_mode": {
    "name": "ipython",
    "version": 3
   },
   "file_extension": ".py",
   "mimetype": "text/x-python",
   "name": "python",
   "nbconvert_exporter": "python",
   "pygments_lexer": "ipython3",
   "version": "3.10.1"
  }
 },
 "nbformat": 4,
 "nbformat_minor": 5
}
